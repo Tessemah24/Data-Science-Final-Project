{
 "cells": [
  {
   "cell_type": "markdown",
   "metadata": {},
   "source": [
    "## Build a Dashboard Application with Plotly Dash ##"
   ]
  },
  {
   "cell_type": "markdown",
   "metadata": {},
   "source": [
    "In this lab, you will be building a Plotly Dash application for users to perform interactive visual analytics on SpaceX launch data in\n",
    "real-time.\n",
    "\n",
    "This dashboard application contains input components such as a dropdown list and a range slider to\n",
    "interact with a pie chart and a scatter point chart. You will be guided to build this dashboard application via the following tasks:\n",
    "Note:Please take screenshots of the Dashboard and save them. Further upload your notebook to github.\n",
    "- **TASK 1:** Add a Launch Site Drop-down Input Component\n",
    "- **TASK 2:** Add a callback function to render success-pie-chart based on selected site dropdown\n",
    "- **TASK 3:** Add a Range Slider to Select Payload\n",
    "- **TASK 4:** Add a callback function to render the success-payload-scatter-chart scatter plot\n",
    "The github url and the screenshots are later required in the presentation slides.\n",
    "\n",
    "Your completed dashboard application should look like the following screenshot:\n",
    "The github url and the screenshots are later required in the presentation slides."
   ]
  },
  {
   "cell_type": "markdown",
   "metadata": {},
   "source": [
    "After visual analysis using the dashboard, you should be able to obtain some insights to answer the following five questions:\n",
    "\n",
    "1. Which site has the largest successful launches?\n",
    "2. Which site has the highest launch success rate?\n",
    "3. Which payload range(s) has the highest launch success rate?\n",
    "4. Which payload range(s) has the lowest launch success rate?\n",
    "5. Which F9 Booster version (v1.0, v1.1, FT, B4, B5, etc.) has the highest\n",
    "launch success rate?"
   ]
  },
  {
   "cell_type": "markdown",
   "metadata": {},
   "source": [
    "## Download a skeleton dashboard application and dataset"
   ]
  },
  {
   "cell_type": "markdown",
   "metadata": {},
   "source": [
    "First, let’s get the SpaceX Launch dataset for this lab:\n",
    "\n",
    "- Run the following wget command line in the terminal to download dataset as spacex_launch_dash.csv"
   ]
  },
  {
   "cell_type": "code",
   "execution_count": 1,
   "metadata": {},
   "outputs": [],
   "source": [
    "import dash\n",
    "from dash import dcc, html\n",
    "from dash.dependencies import Input, Output\n",
    "import pandas as pd\n",
    "import plotly.express as px\n"
   ]
  },
  {
   "cell_type": "code",
   "execution_count": 2,
   "metadata": {},
   "outputs": [],
   "source": [
    "spacex_launch_dash = \"https://cf-courses-data.s3.us.cloud-object-storage.appdomain.cloud/IBM-DS0321EN-SkillsNetwork/datasets/spacex_launch_dash.csv\"\n",
    "spacex_df = pd.read_csv(spacex_launch_dash)\n"
   ]
  },
  {
   "cell_type": "markdown",
   "metadata": {},
   "source": [
    "- Download a skeleton Dash app to be completed in this lab"
   ]
  },
  {
   "cell_type": "code",
   "execution_count": 7,
   "metadata": {},
   "outputs": [],
   "source": [
    "#wget \"https://cf-courses-data.s3.us.cloud-object-storage.appdomain.cloud/IBM-DS0321EN-SkillsNetwork/labs/module_3/spacex_dash_app.py\""
   ]
  },
  {
   "cell_type": "markdown",
   "metadata": {},
   "source": [
    "## TASK 1: Add a Launch Site Drop-down Input Component"
   ]
  },
  {
   "cell_type": "markdown",
   "metadata": {},
   "source": [
    "We have four different launch sites and we would like to first see which one has the largest success count. Then,\n",
    "we would like to select one specific site and check its detailed success rate (class=0 vs. class=1).\n",
    "\n",
    "As such, we will need a dropdown menu to let us select different launch sites."
   ]
  },
  {
   "cell_type": "code",
   "execution_count": null,
   "metadata": {},
   "outputs": [],
   "source": [
    "# Find and complete a commented dcc.Dropdown(id='site-dropdown',...) input with following attributes:\n",
    "      # id attribute with value site-dropdown\n",
    "    # options attribute is a list of dict-like option objects (with label and value attributes). You can set\n",
    "    #     the label and value all to be the launch site names in the spacex_df\n",
    "    # and you need to include the default All option. e.g.\n",
    "    \n",
    "# options=[{'label': 'All Sites', 'value': 'ALL'},{'label': 'site1', 'value': 'site1'}, ...]\n",
    "\n"
   ]
  },
  {
   "cell_type": "code",
   "execution_count": 3,
   "metadata": {},
   "outputs": [
    {
     "data": {
      "text/html": [
       "\n",
       "        <iframe\n",
       "            width=\"100%\"\n",
       "            height=\"650\"\n",
       "            src=\"http://127.0.0.1:8050/\"\n",
       "            frameborder=\"0\"\n",
       "            allowfullscreen\n",
       "            \n",
       "        ></iframe>\n",
       "        "
      ],
      "text/plain": [
       "<IPython.lib.display.IFrame at 0x2bc71fe1610>"
      ]
     },
     "metadata": {},
     "output_type": "display_data"
    }
   ],
   "source": [
    "# Load the SpaceX dataset\n",
    "#spacex_df = pd.read_csv(\"spacex_launch_dash.csv\")\n",
    "\n",
    "# List of launch sites\n",
    "launch_sites = spacex_df['Launch Site'].unique()\n",
    "\n",
    "# Initialize the Dash app\n",
    "app = dash.Dash(__name__)\n",
    "\n",
    "app.layout = html.Div([\n",
    "    dcc.Dropdown(\n",
    "        id='site-dropdown',\n",
    "        options=[\n",
    "            {'label': 'All Sites', 'value': 'ALL'}\n",
    "        ] + [{'label': site, 'value': site} for site in launch_sites],\n",
    "        value='ALL',  # Default value is ALL\n",
    "        placeholder=\"Select a Launch Site here\",\n",
    "        searchable=True\n",
    "    ),\n",
    "])\n",
    "\n",
    "if __name__ == '__main__':\n",
    "    app.run_server(debug=True)\n"
   ]
  },
  {
   "cell_type": "markdown",
   "metadata": {},
   "source": [
    "## TASK 2: Add a callback function to render success-pie-chart based on selected site dropdown"
   ]
  },
  {
   "cell_type": "code",
   "execution_count": 4,
   "metadata": {},
   "outputs": [
    {
     "data": {
      "text/html": [
       "\n",
       "        <iframe\n",
       "            width=\"100%\"\n",
       "            height=\"650\"\n",
       "            src=\"http://127.0.0.1:8050/\"\n",
       "            frameborder=\"0\"\n",
       "            allowfullscreen\n",
       "            \n",
       "        ></iframe>\n",
       "        "
      ],
      "text/plain": [
       "<IPython.lib.display.IFrame at 0x2bc729f34d0>"
      ]
     },
     "metadata": {},
     "output_type": "display_data"
    }
   ],
   "source": [
    "import dash\n",
    "from dash import dcc, html\n",
    "from dash.dependencies import Input, Output\n",
    "import pandas as pd\n",
    "import plotly.express as px\n",
    "\n",
    "# List of launch sites\n",
    "launch_sites = spacex_df['Launch Site'].unique()\n",
    "\n",
    "# Initialize the Dash app\n",
    "app = dash.Dash(__name__)\n",
    "\n",
    "app.layout = html.Div([\n",
    "    dcc.Dropdown(\n",
    "        id='site-dropdown',\n",
    "        options=[\n",
    "            {'label': 'All Sites', 'value': 'ALL'}\n",
    "        ] + [{'label': site, 'value': site} for site in launch_sites],\n",
    "        value='ALL',  # Default value is ALL\n",
    "        placeholder=\"Select a Launch Site here\",\n",
    "        searchable=True\n",
    "    ),\n",
    "    html.Div(dcc.Graph(id='success-pie-chart')),  # Pie chart placeholder\n",
    "])\n",
    "\n",
    "# Callback function to update pie chart based on selected site\n",
    "@app.callback(\n",
    "    Output(component_id='success-pie-chart', component_property='figure'),\n",
    "    Input(component_id='site-dropdown', component_property='value')\n",
    ")\n",
    "def get_pie_chart(entered_site):\n",
    "    if entered_site == 'ALL':\n",
    "        # Pie chart for all sites\n",
    "        fig = px.pie(spacex_df, values='class', \n",
    "                     names='Launch Site', \n",
    "                     title='Total Success Launches by Site')\n",
    "    else:\n",
    "        # Filter data for the selected site\n",
    "        filtered_df = spacex_df[spacex_df['Launch Site'] == entered_site]\n",
    "        # Pie chart for the selected site (success vs failed)\n",
    "        fig = px.pie(filtered_df, \n",
    "                     names='class', \n",
    "                     title=f'Total Success and Failure Launches for site {entered_site}')\n",
    "    \n",
    "    return fig\n",
    "\n",
    "if __name__ == '__main__':\n",
    "    app.run_server(debug=True)\n"
   ]
  },
  {
   "cell_type": "markdown",
   "metadata": {},
   "source": [
    "## TASK 3: Add a Range Slider to Select Payload"
   ]
  },
  {
   "cell_type": "code",
   "execution_count": 10,
   "metadata": {},
   "outputs": [
    {
     "data": {
      "text/html": [
       "\n",
       "        <iframe\n",
       "            width=\"100%\"\n",
       "            height=\"650\"\n",
       "            src=\"http://127.0.0.1:8050/\"\n",
       "            frameborder=\"0\"\n",
       "            allowfullscreen\n",
       "            \n",
       "        ></iframe>\n",
       "        "
      ],
      "text/plain": [
       "<IPython.lib.display.IFrame at 0x1e536a3ff20>"
      ]
     },
     "metadata": {},
     "output_type": "display_data"
    }
   ],
   "source": [
    "\n",
    "# Define min and max payload values from the dataset\n",
    "min_payload = spacex_df['Payload Mass (kg)'].min()\n",
    "max_payload = spacex_df['Payload Mass (kg)'].max()\n",
    "\n",
    "# Initialize the Dash app\n",
    "app = dash.Dash(__name__)\n",
    "\n",
    "app.layout = html.Div([\n",
    "    dcc.Dropdown(\n",
    "        id='site-dropdown',\n",
    "        options=[\n",
    "            {'label': 'All Sites', 'value': 'ALL'}\n",
    "        ] + [{'label': site, 'value': site} for site in spacex_df['Launch Site'].unique()],\n",
    "        value='ALL',\n",
    "        placeholder=\"Select a Launch Site here\",\n",
    "        searchable=True\n",
    "    ),\n",
    "    html.Div(dcc.Graph(id='success-pie-chart')),  # Pie chart placeholder\n",
    "    \n",
    "    # Adding the Payload Range Slider\n",
    "    html.P(\"Select Payload Range (Kg):\"),\n",
    "    dcc.RangeSlider(\n",
    "        id='payload-slider',\n",
    "        min=0, \n",
    "        max=10000, \n",
    "        step=1000, \n",
    "        marks={i: f'{i}' for i in range(0, 10001, 1000)},\n",
    "        value=[min_payload, max_payload]  # Default to min and max payload\n",
    "    ),\n",
    "])\n",
    "\n",
    "if __name__ == '__main__':\n",
    "    app.run_server(debug=True)\n"
   ]
  },
  {
   "cell_type": "markdown",
   "metadata": {},
   "source": [
    "## TASK 4: Add a callback function to render the success-payload-scatter-chart scatter plot"
   ]
  },
  {
   "cell_type": "code",
   "execution_count": 5,
   "metadata": {},
   "outputs": [
    {
     "data": {
      "text/html": [
       "\n",
       "        <iframe\n",
       "            width=\"100%\"\n",
       "            height=\"650\"\n",
       "            src=\"http://127.0.0.1:8050/\"\n",
       "            frameborder=\"0\"\n",
       "            allowfullscreen\n",
       "            \n",
       "        ></iframe>\n",
       "        "
      ],
      "text/plain": [
       "<IPython.lib.display.IFrame at 0x21bff482030>"
      ]
     },
     "metadata": {},
     "output_type": "display_data"
    },
    {
     "data": {
      "text/html": [
       "\n",
       "        <iframe\n",
       "            width=\"100%\"\n",
       "            height=\"650\"\n",
       "            src=\"http://127.0.0.1:8050/\"\n",
       "            frameborder=\"0\"\n",
       "            allowfullscreen\n",
       "            \n",
       "        ></iframe>\n",
       "        "
      ],
      "text/plain": [
       "<IPython.lib.display.IFrame at 0x21bfea7f3e0>"
      ]
     },
     "metadata": {},
     "output_type": "display_data"
    }
   ],
   "source": [
    "\n",
    "# Define min and max payload values from the dataset\n",
    "min_payload = spacex_df['Payload Mass (kg)'].min()\n",
    "max_payload = spacex_df['Payload Mass (kg)'].max()\n",
    "\n",
    "# Initialize the Dash app\n",
    "app = dash.Dash(__name__)\n",
    "\n",
    "app.layout = html.Div([\n",
    "    dcc.Dropdown(\n",
    "        id='site-dropdown',\n",
    "        options=[\n",
    "            {'label': 'All Sites', 'value': 'ALL'}\n",
    "        ] + [{'label': site, 'value': site} for site in spacex_df['Launch Site'].unique()],\n",
    "        value='ALL',\n",
    "        placeholder=\"Select a Launch Site here\",\n",
    "        searchable=True\n",
    "    ),\n",
    "    html.Div(dcc.Graph(id='success-pie-chart')),  # Pie chart placeholder\n",
    "    \n",
    "    html.P(\"Select Payload Range (Kg):\"),\n",
    "    dcc.RangeSlider(\n",
    "        id='payload-slider',\n",
    "        min=0, \n",
    "        max=10000, \n",
    "        step=1000, \n",
    "        marks={i: f'{i}' for i in range(0, 10001, 1000)},\n",
    "        value=[min_payload, max_payload]  # Default to min and max payload\n",
    "    ),\n",
    "    \n",
    "    html.Div(dcc.Graph(id='success-payload-scatter-chart')),  # Scatter plot placeholder\n",
    "])\n",
    "\n",
    "# Callback function to update scatter plot based on selected site and payload range\n",
    "@app.callback(\n",
    "    Output(component_id='success-payload-scatter-chart', component_property='figure'),\n",
    "    [Input(component_id='site-dropdown', component_property='value'),\n",
    "     Input(component_id='payload-slider', component_property='value')]\n",
    ")\n",
    "def update_scatter_plot(entered_site, payload_range):\n",
    "    low, high = payload_range\n",
    "    filtered_df = spacex_df[(spacex_df['Payload Mass (kg)'] >= low) & (spacex_df['Payload Mass (kg)'] <= high)]\n",
    "    \n",
    "    if entered_site == 'ALL':\n",
    "        # Scatter plot for all sites\n",
    "        fig = px.scatter(\n",
    "            filtered_df, x='Payload Mass (kg)', y='class',\n",
    "            color='Booster Version Category',\n",
    "            title='Payload vs. Outcome for All Sites',\n",
    "            labels={'class': 'Launch Outcome'}\n",
    "        )\n",
    "    else:\n",
    "        # Filter data for the selected site\n",
    "        filtered_df = filtered_df[filtered_df['Launch Site'] == entered_site]\n",
    "        # Scatter plot for the selected site\n",
    "        fig = px.scatter(\n",
    "            filtered_df, x='Payload Mass (kg)', y='class',\n",
    "            color='Booster Version Category',\n",
    "            title=f'Payload vs. Outcome for site {entered_site}',\n",
    "            labels={'class': 'Launch Outcome'}\n",
    "        )\n",
    "    \n",
    "    return fig\n",
    "\n",
    "if __name__ == '__main__':\n",
    "    app.run_server(debug=True)\n",
    "\n",
    "\n",
    "# Load the SpaceX dataset\n",
    "#spacex_df = pd.read_csv(\"spacex_launch_dash.csv\")\n",
    "\n",
    "# Define min and max payload values from the dataset\n",
    "min_payload = spacex_df['Payload Mass (kg)'].min()\n",
    "max_payload = spacex_df['Payload Mass (kg)'].max()\n",
    "\n",
    "# Initialize the Dash app\n",
    "app = dash.Dash(__name__)\n",
    "\n",
    "app.layout = html.Div([\n",
    "    dcc.Dropdown(\n",
    "        id='site-dropdown',\n",
    "        options=[\n",
    "            {'label': 'All Sites', 'value': 'ALL'}\n",
    "        ] + [{'label': site, 'value': site} for site in spacex_df['Launch Site'].unique()],\n",
    "        value='ALL',\n",
    "        placeholder=\"Select a Launch Site here\",\n",
    "        searchable=True\n",
    "    ),\n",
    "    html.Div(dcc.Graph(id='success-pie-chart')),  # Pie chart placeholder\n",
    "    \n",
    "    html.P(\"Select Payload Range (Kg):\"),\n",
    "    dcc.RangeSlider(\n",
    "        id='payload-slider',\n",
    "        min=0, \n",
    "        max=10000, \n",
    "        step=1000, \n",
    "        marks={i: f'{i}' for i in range(0, 10001, 1000)},\n",
    "        value=[min_payload, max_payload]  # Default to min and max payload\n",
    "    ),\n",
    "    \n",
    "    html.Div(dcc.Graph(id='success-payload-scatter-chart')),  # Scatter plot placeholder\n",
    "])\n",
    "\n",
    "# Callback function to update scatter plot based on selected site and payload range\n",
    "@app.callback(\n",
    "    Output(component_id='success-payload-scatter-chart', component_property='figure'),\n",
    "    [Input(component_id='site-dropdown', component_property='value'),\n",
    "     Input(component_id='payload-slider', component_property='value')]\n",
    ")\n",
    "def update_scatter_plot(entered_site, payload_range):\n",
    "    low, high = payload_range\n",
    "    filtered_df = spacex_df[(spacex_df['Payload Mass (kg)'] >= low) & (spacex_df['Payload Mass (kg)'] <= high)]\n",
    "    \n",
    "    if entered_site == 'ALL':\n",
    "        # Scatter plot for all sites\n",
    "        fig = px.scatter(\n",
    "            filtered_df, x='Payload Mass (kg)', y='class',\n",
    "            color='Booster Version Category',\n",
    "            title='Payload vs. Outcome for All Sites',\n",
    "            labels={'class': 'Launch Outcome'}\n",
    "        )\n",
    "    else:\n",
    "        # Filter data for the selected site\n",
    "        filtered_df = filtered_df[filtered_df['Launch Site'] == entered_site]\n",
    "        # Scatter plot for the selected site\n",
    "        fig = px.scatter(\n",
    "            filtered_df, x='Payload Mass (kg)', y='class',\n",
    "            color='Booster Version Category',\n",
    "            title=f'Payload vs. Outcome for site {entered_site}',\n",
    "            labels={'class': 'Launch Outcome'}\n",
    "        )\n",
    "    \n",
    "    return fig\n",
    "\n",
    "if __name__ == '__main__':\n",
    "    app.run_server(debug=True)\n"
   ]
  },
  {
   "cell_type": "markdown",
   "metadata": {},
   "source": [
    "## Finding Insights Visually"
   ]
  },
  {
   "cell_type": "markdown",
   "metadata": {},
   "source": [
    "Now with the dashboard completed, you should be able to use it to analyze SpaceX launch data, and answer the following questions:\n",
    "\n",
    "1. Which site has the largest successful launches?\n",
    "2. Which site has the highest launch success rate?\n",
    "3. Which payload range(s) has the highest launch success rate?\n",
    "4. Which payload range(s) has the lowest launch success rate?\n",
    "5. Which F9 Booster version (v1.0, v1.1, FT, B4, B5, etc.) has the highest launch success rate?"
   ]
  }
 ],
 "metadata": {
  "kernelspec": {
   "display_name": "Python 3",
   "language": "python",
   "name": "python3"
  },
  "language_info": {
   "codemirror_mode": {
    "name": "ipython",
    "version": 3
   },
   "file_extension": ".py",
   "mimetype": "text/x-python",
   "name": "python",
   "nbconvert_exporter": "python",
   "pygments_lexer": "ipython3",
   "version": "3.12.6"
  }
 },
 "nbformat": 4,
 "nbformat_minor": 2
}
